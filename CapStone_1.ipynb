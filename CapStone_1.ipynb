{
 "cells": [
  {
   "cell_type": "code",
   "execution_count": 1,
   "metadata": {},
   "outputs": [
    {
     "data": {
      "text/html": [
       "\n",
       "            <div>\n",
       "                <p><b>SparkSession - hive</b></p>\n",
       "                \n",
       "        <div>\n",
       "            <p><b>SparkContext</b></p>\n",
       "\n",
       "            <p><a href=\"http://preethim-vm1.zillow.local:4041\">Spark UI</a></p>\n",
       "\n",
       "            <dl>\n",
       "              <dt>Version</dt>\n",
       "                <dd><code>v2.4.0</code></dd>\n",
       "              <dt>Master</dt>\n",
       "                <dd><code>local[*]</code></dd>\n",
       "              <dt>AppName</dt>\n",
       "                <dd><code>PySparkShell</code></dd>\n",
       "            </dl>\n",
       "        </div>\n",
       "        \n",
       "            </div>\n",
       "        "
      ],
      "text/plain": [
       "<pyspark.sql.session.SparkSession at 0x1946ec63c18>"
      ]
     },
     "execution_count": 1,
     "metadata": {},
     "output_type": "execute_result"
    }
   ],
   "source": [
    "\n",
    "spark"
   ]
  },
  {
   "cell_type": "code",
   "execution_count": 6,
   "metadata": {},
   "outputs": [
    {
     "data": {
      "text/plain": [
       "Row(TransID=106714601, FIPS='08077', State='CO', County='MESA', DataclassStndcode='D', RecordTypeStndCode='P', Recordingdate=datetime.date(1996, 7, 1), DocumentTypeStndCode='WRDE', SalesPriceAmount=Decimal('176000.0000'), SalesPriceAmountStndCode='RD', AssessmentLandUseStndCode='RR101', ZVendorStndCode='BKF', AssessorParcelNumber='2945-032-19-006', ImportParcelID=23520753, OriginalPropertyFullStreetAddress=None, PropertyFullStreetAddress='2544 MOONRIDGE DR')"
      ]
     },
     "execution_count": 6,
     "metadata": {},
     "output_type": "execute_result"
    }
   ],
   "source": [
    "    \n",
    "from pyspark.sql import HiveContext\n",
    "spark = SparkSession \\\n",
    "        .builder \\\n",
    "        .appName(\"Python Spark SQL Model\") \\\n",
    "        .config(\"spark.driver.extraClassPath\", \"C:\\spark\\spark-2.4.0-bin-hadoop2.7\\spark-2.4.0-bin-hadoop2.7\\jars\\sqljdbc42.jar\") \\\n",
    "        .getOrCreate()\n",
    "\n",
    "Transactions_1 = spark.read \\\n",
    "    .format(\"jdbc\") \\\n",
    "    .option(\"url\", \"jdbc:sqlserver://se1-dbd-sql-008:1433;database=zasmtstack\") \\\n",
    "    .option(\"dbtable\", \"(select m.TransID, m.FIPS, m.State, m.County,m.DataclassStndcode, m.RecordTypeStndCode, \\\n",
    "                        m.Recordingdate, m.DocumentTypeStndCode,m.SalesPriceAmount, m.SalesPriceAmountStndCode,\\\n",
    "                        m.AssessmentLandUseStndCode,m.ZVendorStndCode, p.AssessorParcelNumber,p.ImportParcelID,\\\n",
    "                        p.OriginalPropertyFullStreetAddress, p.PropertyFullStreetAddress\\\n",
    "                        from ztrans.ztrans.utmain m with(index([XIE_Main_TransID])) \\\n",
    "                        left join ztrans.ztrans.utPropertyInfo p with (index([temp_transID]))\\\n",
    "                        on m.transid = p.TransId where m.fips = '08069'\\\n",
    "                        and m.salespriceamount > 0 and m.DataClassStndCode = 'D' and m.AssessmentLandUseStndCode like 'R%'\\\n",
    "                        ) AS Transactions\") \\\n",
    "    .option(\"user\", \"Preethim\") \\\n",
    "    .option(\"password\", \"Preethi!\") \\\n",
    "    .option(\"fetchsize\", 10)\\\n",
    "    .load() \n",
    "\n",
    "Transactions_2 = spark.read \\\n",
    "    .format(\"jdbc\") \\\n",
    "    .option(\"url\", \"jdbc:sqlserver://se1-dbd-sql-008:1433;database=zasmtstack\") \\\n",
    "    .option(\"dbtable\", \"(select m.TransID, m.FIPS, m.State, m.County,m.DataclassStndcode, m.RecordTypeStndCode, \\\n",
    "                        m.Recordingdate, m.DocumentTypeStndCode,m.SalesPriceAmount, m.SalesPriceAmountStndCode,\\\n",
    "                        m.AssessmentLandUseStndCode,m.ZVendorStndCode, p.AssessorParcelNumber,p.ImportParcelID,\\\n",
    "                        p.OriginalPropertyFullStreetAddress, p.PropertyFullStreetAddress\\\n",
    "                        from ztrans.ztrans.utmain m with(index([XIE_Main_TransID])) \\\n",
    "                        left join ztrans.ztrans.utPropertyInfo p with (index([temp_transID]))\\\n",
    "                        on m.transid = p.TransId where m.fips = '08077'\\\n",
    "                        and m.salespriceamount > 0 and m.DataClassStndCode = 'D' and m.AssessmentLandUseStndCode like 'R%'\\\n",
    "                        ) AS Transactions\") \\\n",
    "    .option(\"user\", \"Preethim\") \\\n",
    "    .option(\"password\", \"Preethi!\") \\\n",
    "    .option(\"fetchsize\", 10)\\\n",
    "    .load()    \n",
    "#df = spark.read.jdbc(\"jdbc:sqlserver://se1-dbd-sql-008:1433;database=zasmtstack;user=Preethim;password=Preethi!\",\"zasmt.utpool\")\n",
    "Transactions_1.first()\n",
    "Transactions_2.first()\n",
    "\n"
   ]
  },
  {
   "cell_type": "code",
   "execution_count": 7,
   "metadata": {},
   "outputs": [
    {
     "name": "stdout",
     "output_type": "stream",
     "text": [
      "44609\n"
     ]
    }
   ],
   "source": [
    "print (Transactions_1.count())"
   ]
  },
  {
   "cell_type": "code",
   "execution_count": 8,
   "metadata": {},
   "outputs": [
    {
     "name": "stdout",
     "output_type": "stream",
     "text": [
      "39000000.0000\n",
      "103.0000\n"
     ]
    }
   ],
   "source": [
    "sales_max_value = Transactions_1.agg({\"SalesPriceAmount\": \"max\"}).collect()[0][0]\n",
    "sales_min_value = Transactions_2.agg({\"SalesPriceAmount\": \"min\"}).collect()[0][0]\n",
    "print (sales_max_value)\n",
    "print(sales_min_value)"
   ]
  },
  {
   "cell_type": "code",
   "execution_count": 25,
   "metadata": {},
   "outputs": [],
   "source": [
    "def getSales(decimal_sales):\n",
    "    sales = []\n",
    "\n",
    "    for each in decimal_sales:\n",
    "        Integer = int(each[0])\n",
    "        sales.append(Integer)\n",
    "    sales=sorted(sales)\n",
    "    return(sales)"
   ]
  },
  {
   "cell_type": "code",
   "execution_count": 28,
   "metadata": {},
   "outputs": [
    {
     "ename": "AttributeError",
     "evalue": "'Axes' object has no attribute 'scatterplot'",
     "output_type": "error",
     "traceback": [
      "\u001b[1;31m---------------------------------------------------------------------------\u001b[0m",
      "\u001b[1;31mAttributeError\u001b[0m                            Traceback (most recent call last)",
      "\u001b[1;32m<ipython-input-28-0288ab3fba38>\u001b[0m in \u001b[0;36m<module>\u001b[1;34m\u001b[0m\n\u001b[0;32m     14\u001b[0m \u001b[0max2\u001b[0m \u001b[1;33m=\u001b[0m \u001b[0mfig\u001b[0m\u001b[1;33m.\u001b[0m\u001b[0madd_axes\u001b[0m\u001b[1;33m(\u001b[0m\u001b[1;33m[\u001b[0m\u001b[1;36m0\u001b[0m\u001b[1;33m,\u001b[0m\u001b[1;36m0\u001b[0m\u001b[1;33m,\u001b[0m\u001b[1;36m1\u001b[0m\u001b[1;33m,\u001b[0m\u001b[1;36m.4\u001b[0m\u001b[1;33m]\u001b[0m\u001b[1;33m)\u001b[0m\u001b[1;33m\u001b[0m\u001b[1;33m\u001b[0m\u001b[0m\n\u001b[0;32m     15\u001b[0m \u001b[1;33m\u001b[0m\u001b[0m\n\u001b[1;32m---> 16\u001b[1;33m \u001b[0max1\u001b[0m\u001b[1;33m.\u001b[0m\u001b[0mscatterplot\u001b[0m\u001b[1;33m(\u001b[0m\u001b[0ml1\u001b[0m\u001b[1;33m,\u001b[0m\u001b[0msales_08069\u001b[0m\u001b[1;33m[\u001b[0m\u001b[1;33m:\u001b[0m\u001b[1;36m44500\u001b[0m\u001b[1;33m]\u001b[0m\u001b[1;33m)\u001b[0m\u001b[1;33m\u001b[0m\u001b[1;33m\u001b[0m\u001b[0m\n\u001b[0m\u001b[0;32m     17\u001b[0m \u001b[0max2\u001b[0m\u001b[1;33m.\u001b[0m\u001b[0mscatterplot\u001b[0m\u001b[1;33m(\u001b[0m\u001b[0ml2\u001b[0m\u001b[1;33m,\u001b[0m\u001b[0msales_16027\u001b[0m\u001b[1;33m[\u001b[0m\u001b[1;33m:\u001b[0m\u001b[1;36m29000\u001b[0m\u001b[1;33m]\u001b[0m\u001b[1;33m)\u001b[0m\u001b[1;33m\u001b[0m\u001b[1;33m\u001b[0m\u001b[0m\n\u001b[0;32m     18\u001b[0m \u001b[0mplt\u001b[0m\u001b[1;33m.\u001b[0m\u001b[0mshow\u001b[0m\u001b[1;33m(\u001b[0m\u001b[1;33m)\u001b[0m\u001b[1;33m\u001b[0m\u001b[1;33m\u001b[0m\u001b[0m\n",
      "\u001b[1;31mAttributeError\u001b[0m: 'Axes' object has no attribute 'scatterplot'"
     ]
    },
    {
     "data": {
      "image/png": "[encoded data removed]",
      "text/plain": [
       "<Figure size 432x288 with 2 Axes>"
      ]
     },
     "metadata": {
      "needs_background": "light"
     },
     "output_type": "display_data"
    }
   ],
   "source": [
    "%matplotlib inline\n",
    "\n",
    "import matplotlib.pyplot as plt\n",
    "\n",
    "#decimal_sales = Transactions.select(\"SalesPriceAmount\").collect()\n",
    "sales_1 = getSales(Transactions_1.select(\"SalesPriceAmount\").collect())\n",
    "sales_2 = getSales(Transactions_2.select(\"SalesPriceAmount\").collect())\n",
    "\n",
    "\n",
    "l1 = [i for i in range(len(sales_1)-2)]\n",
    "l2 =  [i for i in range(len(sales_2)-2)]\n",
    "fig = plt.figure()\n",
    "ax1 = fig.add_axes([0,0.6,1,.4])\n",
    "ax2 = fig.add_axes([0,0,1,.4])\n",
    "\n",
    "ax1.scatterplot(l1,sales_08069[:44500])\n",
    "ax2.scatterplot(l2,sales_16027[:29000])\n",
    "plt.show()"
   ]
  },
  {
   "cell_type": "code",
   "execution_count": null,
   "metadata": {},
   "outputs": [],
   "source": [
    "import matplotlib\n",
    "matplotlib.is_interactive()\n",
    "\n",
    "%matplotlib --list"
   ]
  },
  {
   "cell_type": "code",
   "execution_count": null,
   "metadata": {},
   "outputs": [],
   "source": [
    "len(sales)"
   ]
  },
  {
   "cell_type": "code",
   "execution_count": null,
   "metadata": {},
   "outputs": [],
   "source": []
  }
 ],
 "metadata": {
  "kernelspec": {
   "display_name": "Python 3",
   "language": "python",
   "name": "python3"
  },
  "language_info": {
   "codemirror_mode": {
    "name": "ipython",
    "version": 3
   },
   "file_extension": ".py",
   "mimetype": "text/x-python",
   "name": "python",
   "nbconvert_exporter": "python",
   "pygments_lexer": "ipython3",
   "version": "3.7.2"
  }
 },
 "nbformat": 4,
 "nbformat_minor": 2
}
