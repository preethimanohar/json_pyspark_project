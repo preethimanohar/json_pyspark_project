{
 "cells": [
  {
   "cell_type": "code",
   "execution_count": 1,
   "metadata": {},
   "outputs": [],
   "source": [
    "import findspark\n",
    "findspark.init('C:\\Spark\\spark-2.3.2-bin-hadoop2.7')\n"
   ]
  },
  {
   "cell_type": "code",
   "execution_count": 2,
   "metadata": {},
   "outputs": [],
   "source": [
    "import json\n",
    "from pyspark.sql import SparkSession\n",
    "from pyspark.sql.functions import explode\n",
    "spark = SparkSession.builder.appName(\"example-spark\").config(\"spark.sql.crossJoin.enabled\",\"true\").getOrCreate()\n"
   ]
  },
  {
   "cell_type": "code",
   "execution_count": 3,
   "metadata": {},
   "outputs": [
    {
     "name": "stdout",
     "output_type": "stream",
     "text": [
      "+--------------------+----------------+\n",
      "|         countryname|NumberOfProjects|\n",
      "+--------------------+----------------+\n",
      "|Republic of Indon...|              19|\n",
      "|People's Republic...|              19|\n",
      "|Socialist Republi...|              17|\n",
      "|   Republic of India|              16|\n",
      "|   Republic of Yemen|              13|\n",
      "|People's Republic...|              12|\n",
      "|               Nepal|              12|\n",
      "|  Kingdom of Morocco|              12|\n",
      "|              Africa|              11|\n",
      "|Republic of Mozam...|              11|\n",
      "+--------------------+----------------+\n",
      "\n"
     ]
    }
   ],
   "source": [
    "df = spark.read.json(\"C:\\SpringBoard\\data_wrangling_json\\data\\world_bank_projects.json\", multiLine=True)\n",
    "df.createOrReplaceTempView('WorldBank')\n",
    "\n",
    "spark.sql(\"\"\"select countryname, count(project_name) NumberOfProjects from WorldBank group by countryname order by NumberOfProjects desc limit 10\n",
    "\"\"\").show()\n",
    "\n"
   ]
  },
  {
   "cell_type": "code",
   "execution_count": 6,
   "metadata": {},
   "outputs": [
    {
     "name": "stdout",
     "output_type": "stream",
     "text": [
      "+----+-----+\n",
      "|Code|count|\n",
      "+----+-----+\n",
      "|   3|   15|\n",
      "|   1|   38|\n",
      "|   9|   50|\n",
      "|   5|   77|\n",
      "|   7|  130|\n",
      "|   4|  146|\n",
      "|   6|  168|\n",
      "|   2|  199|\n",
      "|   8|  210|\n",
      "|  10|  216|\n",
      "|  11|  250|\n",
      "+----+-----+\n",
      "\n"
     ]
    }
   ],
   "source": [
    "#df.show(1)\n",
    "df.select(explode('mjtheme_namecode.code').alias('Code')).groupBy('Code').count().orderBy('count').show()\n"
   ]
  },
  {
   "cell_type": "code",
   "execution_count": 50,
   "metadata": {},
   "outputs": [
    {
     "name": "stdout",
     "output_type": "stream",
     "text": [
      "+----+---+\n",
      "|Name|col|\n",
      "+----+---+\n",
      "|    |  8|\n",
      "|    | 11|\n",
      "|    |  6|\n",
      "|    |  6|\n",
      "|    | 11|\n",
      "|    |  8|\n",
      "|    | 10|\n",
      "|    |  7|\n",
      "|    | 10|\n",
      "|    |  2|\n",
      "|    |  4|\n",
      "|    | 10|\n",
      "|    |  2|\n",
      "|    |  8|\n",
      "|    |  7|\n",
      "|    |  8|\n",
      "|    |  4|\n",
      "|    | 10|\n",
      "|    | 11|\n",
      "|    |  6|\n",
      "+----+---+\n",
      "only showing top 20 rows\n",
      "\n"
     ]
    }
   ],
   "source": [
    "temp = spark.sql(\"\"\"select explode(mjtheme_namecode.name) Name, mjtheme_namecode.code Code from WorldBank \"\"\")\n",
    "temp.createOrReplaceTempView('NameCode')\n",
    "spark.sql(\"\"\"select Name,explode(Code) from NameCode where Name='' \"\"\").show()\n"
   ]
  },
  {
   "cell_type": "code",
   "execution_count": null,
   "metadata": {},
   "outputs": [],
   "source": [
    "foreach"
   ]
  },
  {
   "cell_type": "code",
   "execution_count": null,
   "metadata": {},
   "outputs": [],
   "source": [
    "#spark.stop()"
   ]
  },
  {
   "cell_type": "code",
   "execution_count": null,
   "metadata": {},
   "outputs": [],
   "source": []
  },
  {
   "cell_type": "code",
   "execution_count": null,
   "metadata": {},
   "outputs": [],
   "source": []
  }
 ],
 "metadata": {
  "kernelspec": {
   "display_name": "Python 3",
   "language": "python",
   "name": "python3"
  },
  "language_info": {
   "codemirror_mode": {
    "name": "ipython",
    "version": 3
   },
   "file_extension": ".py",
   "mimetype": "text/x-python",
   "name": "python",
   "nbconvert_exporter": "python",
   "pygments_lexer": "ipython3",
   "version": "3.6.6"
  }
 },
 "nbformat": 4,
 "nbformat_minor": 2
}
